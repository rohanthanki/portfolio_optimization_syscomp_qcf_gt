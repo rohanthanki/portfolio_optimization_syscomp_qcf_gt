{
 "cells": [
  {
   "cell_type": "code",
   "execution_count": 29,
   "id": "c15536a2-bac8-4100-b259-1bcde10854f2",
   "metadata": {},
   "outputs": [],
   "source": [
    "import warnings\n",
    "warnings.filterwarnings('ignore')"
   ]
  },
  {
   "cell_type": "code",
   "execution_count": 264,
   "id": "0b1d80e0-611b-41ad-8228-edcec190afd2",
   "metadata": {},
   "outputs": [],
   "source": [
    "import logging\n",
    "import numpy as np\n",
    "import pandas as pd\n",
    "from datetime import datetime as dt\n",
    "import statsmodels.api as sm\n",
    "from sklearn.preprocessing import StandardScaler\n",
    "from sklearn.decomposition import PCA\n",
    "from sklearn.feature_selection import SelectKBest\n",
    "from sklearn.linear_model import Lasso, LinearRegression"
   ]
  },
  {
   "cell_type": "code",
   "execution_count": 269,
   "id": "579fd44f-14dc-40c8-b2d5-d9211ccdec10",
   "metadata": {},
   "outputs": [],
   "source": [
    "# Creating a logger\n",
    "logging.basicConfig(filename=\"Output_Files/Final_Project.log\",\n",
    "                            filemode='w',\n",
    "                            format='%(asctime)s,%(msecs)d %(name)s %(levelname)s %(message)s',\n",
    "                            datefmt='%H:%M:%S',\n",
    "                            level=logging.DEBUG)"
   ]
  },
  {
   "cell_type": "code",
   "execution_count": 92,
   "id": "d80216f2-f184-486b-ac49-f579e14c8d56",
   "metadata": {},
   "outputs": [],
   "source": [
    "benchmark_returns_filepath = 'Data/Benchmark Returns.csv'\n",
    "rus1000_filepath = 'Data/rus1000_stocks_factors.csv'\n",
    "cleaned_returns_filepath = 'Data/cleaned_return_data_sc.csv'\n",
    "benchmark_ret_raw = pd.read_csv(benchmark_returns_filepath)\n",
    "rus1000_raw = pd.read_csv(rus1000_filepath, skiprows=4)\n",
    "cleaned_ret_raw = pd.read_csv(cleaned_returns_filepath)"
   ]
  },
  {
   "cell_type": "markdown",
   "id": "7c82ee86-fdc3-43d7-8a4a-6a0e3b841eed",
   "metadata": {},
   "source": [
    "# QUESTION 1"
   ]
  },
  {
   "cell_type": "code",
   "execution_count": 3,
   "id": "d3db3826-43e7-4a01-ae67-225094f0b5a3",
   "metadata": {},
   "outputs": [],
   "source": [
    "def wrangle_benchmark_returns(df):\n",
    "    df_w = df.copy()\n",
    "    df_w.columns = df_w.columns.str.upper()\n",
    "    df_w['DATE'] = pd.to_datetime(df_w['DATE'], format='%Y%m%d', errors='coerce')\n",
    "    return(df_w)\n",
    "\n",
    "benchmark_ret_w = wrangle_benchmark_returns(benchmark_ret_raw)"
   ]
  },
  {
   "cell_type": "code",
   "execution_count": 61,
   "id": "07107f2b-af4a-40da-8847-f584118d8893",
   "metadata": {},
   "outputs": [
    {
     "data": {
      "text/html": [
       "<div>\n",
       "<style scoped>\n",
       "    .dataframe tbody tr th:only-of-type {\n",
       "        vertical-align: middle;\n",
       "    }\n",
       "\n",
       "    .dataframe tbody tr th {\n",
       "        vertical-align: top;\n",
       "    }\n",
       "\n",
       "    .dataframe thead th {\n",
       "        text-align: right;\n",
       "    }\n",
       "</style>\n",
       "<table border=\"1\" class=\"dataframe\">\n",
       "  <thead>\n",
       "    <tr style=\"text-align: right;\">\n",
       "      <th></th>\n",
       "      <th>Portfolio Name</th>\n",
       "      <th>Average Return</th>\n",
       "      <th>Standard Deviation</th>\n",
       "      <th>Information Ratio</th>\n",
       "      <th>Maximum Drawdown</th>\n",
       "    </tr>\n",
       "  </thead>\n",
       "  <tbody>\n",
       "    <tr>\n",
       "      <th>0</th>\n",
       "      <td>MSCI EM Bench Return</td>\n",
       "      <td>0.010079</td>\n",
       "      <td>0.060572</td>\n",
       "      <td>0.166403</td>\n",
       "      <td>0.614412</td>\n",
       "    </tr>\n",
       "    <tr>\n",
       "      <th>1</th>\n",
       "      <td>Russell 1000 Bench Return</td>\n",
       "      <td>0.008374</td>\n",
       "      <td>0.039763</td>\n",
       "      <td>0.210609</td>\n",
       "      <td>0.511259</td>\n",
       "    </tr>\n",
       "    <tr>\n",
       "      <th>2</th>\n",
       "      <td>MSCI ACWIXUS Bench Return</td>\n",
       "      <td>0.007321</td>\n",
       "      <td>0.048117</td>\n",
       "      <td>0.152159</td>\n",
       "      <td>0.573709</td>\n",
       "    </tr>\n",
       "  </tbody>\n",
       "</table>\n",
       "</div>"
      ],
      "text/plain": [
       "              Portfolio Name  Average Return  Standard Deviation  \\\n",
       "0       MSCI EM Bench Return        0.010079            0.060572   \n",
       "1  Russell 1000 Bench Return        0.008374            0.039763   \n",
       "2  MSCI ACWIXUS Bench Return        0.007321            0.048117   \n",
       "\n",
       "   Information Ratio  Maximum Drawdown  \n",
       "0           0.166403          0.614412  \n",
       "1           0.210609          0.511259  \n",
       "2           0.152159          0.573709  "
      ]
     },
     "execution_count": 61,
     "metadata": {},
     "output_type": "execute_result"
    }
   ],
   "source": [
    "benchmark_stats = {'Portfolio Name' : [], \n",
    "                   'Average Return' : [], \n",
    "                   'Standard Deviation' : [], \n",
    "                   'Information Ratio' : [], \n",
    "                   'Maximum Drawdown' : []\n",
    "                  }\n",
    "\n",
    "for port_name in benchmark_ret_w.drop(['Date'], axis=1):\n",
    "    port_ret = benchmark_ret_w[port_name]\n",
    "    port_ret_mean = port_ret.mean()\n",
    "    port_ret_std =  port_ret.std()\n",
    "    port_ir = port_ret_mean / port_ret_std\n",
    "    port_wealth = (1 + port_ret).cumprod()\n",
    "    previous_peaks = port_wealth.cummax()\n",
    "    drawdown = abs((port_wealth - previous_peaks)/previous_peaks)\n",
    "    port_max_drawdown = drawdown.max()\n",
    "    benchmark_stats['Portfolio Name'].append(port_name)\n",
    "    benchmark_stats['Average Return'].append(port_ret_mean)\n",
    "    benchmark_stats['Standard Deviation'].append(port_ret_std)\n",
    "    benchmark_stats['Information Ratio'].append(port_ir)\n",
    "    benchmark_stats['Maximum Drawdown'].append(port_max_drawdown)\n",
    "    \n",
    "benchmark_stats_df = pd.DataFrame(benchmark_stats)\n",
    "    \n",
    "benchmark_stats_df"
   ]
  },
  {
   "cell_type": "markdown",
   "id": "5896f2cf-2388-4db1-a2aa-fc35b89f1d12",
   "metadata": {},
   "source": [
    "# QUESTION 2"
   ]
  },
  {
   "cell_type": "code",
   "execution_count": 274,
   "id": "9a72bd6c-be33-470a-865a-3e5e036a6b28",
   "metadata": {},
   "outputs": [],
   "source": [
    "def create_date(x):\n",
    "    date = dt(year=x['YEAR'], month=x['MONTH'], day=x['DAY'])\n",
    "    return(date)\n",
    "\n",
    "def wrangle_russel_1000_factors(df):\n",
    "    df_w = df.copy()\n",
    "    df_w.columns = df_w.columns.str.upper()\n",
    "    df_w[['MONTH', 'DAY', 'YEAR']] =  df_w['DATE'].str.split('/', expand=True).astype(int, errors='ignore')\n",
    "    df_w.loc[:,'RETURN':'LIT'] = df_w.loc[:,'RETURN':'LIT'].apply(pd.to_numeric, errors='coerce')\n",
    "    df_w['DATE'] = df_w.apply(lambda x: create_date(x), axis=1)\n",
    "    df_w = df_w.drop(columns=['DAY'])\n",
    "    df_w = df_w.sort_values(by=['SEDOL', 'DATE'])\n",
    "    df_w['RETURN_NEXT'] = df_w.groupby('SEDOL')['RETURN'].shift(-1)\n",
    "    df_w = df_w[~df_w.isin([np.nan, np.inf, -np.inf]).any(1)]\n",
    "    return(df_w)\n",
    "\n",
    "rus1000_w = wrangle_russel_1000_factors(rus1000_raw)"
   ]
  },
  {
   "cell_type": "code",
   "execution_count": 187,
   "id": "d7dca3ce-27a4-4789-be2b-3335653529d8",
   "metadata": {},
   "outputs": [
    {
     "data": {
      "text/plain": [
       "RETURN\n",
       "(0, 10]      16251\n",
       "(10, 20]     16301\n",
       "(20, 30]     16370\n",
       "(30, 40]     16313\n",
       "(40, 50]     16435\n",
       "(50, 60]     16362\n",
       "(60, 70]     16237\n",
       "(70, 80]     16361\n",
       "(80, 90]     16283\n",
       "(90, 100]    16328\n",
       "Name: SEDOL, dtype: int64"
      ]
     },
     "execution_count": 187,
     "metadata": {},
     "output_type": "execute_result"
    }
   ],
   "source": [
    "bins = list(range(0, 101, 10))\n",
    "groups = rus1000_w.groupby(pd.cut(rus1000_w['RETURN'], bins))\n",
    "groups['SEDOL'].count()"
   ]
  },
  {
   "cell_type": "markdown",
   "id": "33ff5bbb-e325-4e35-aa8b-204b6c20f83d",
   "metadata": {},
   "source": [
    "# QUESTION 3"
   ]
  },
  {
   "cell_type": "code",
   "execution_count": 329,
   "id": "898295f2-7cdb-45b5-82d0-e3bae853a9e7",
   "metadata": {},
   "outputs": [],
   "source": [
    "q3_train_df = rus1000_w.loc[(rus1000_w['YEAR'] == 2004) & (rus1000_w['MONTH'].isin([10, 11]))]\n",
    "q3_test_df = rus1000_w.loc[(rus1000_w['YEAR'] == 2004) & (rus1000_w['MONTH'].isin([12]))]\n",
    "X_train = q3_train_df.loc[:, 'RETURN':'LIT']\n",
    "y_train = q3_train_df['RETURN_NEXT']\n",
    "X_test = q3_test_df.loc[:, 'RETURN':'LIT']\n",
    "y_test = q3_test_df['RETURN_NEXT']"
   ]
  },
  {
   "cell_type": "code",
   "execution_count": 330,
   "id": "de5615a6-b66d-41bf-8d33-9855a464c8a0",
   "metadata": {},
   "outputs": [
    {
     "name": "stdout",
     "output_type": "stream",
     "text": [
      "                            OLS Regression Results                            \n",
      "==============================================================================\n",
      "Dep. Variable:            RETURN_NEXT   R-squared:                       0.041\n",
      "Model:                            OLS   Adj. R-squared:                  0.029\n",
      "Method:                 Least Squares   F-statistic:                     3.365\n",
      "Date:                Fri, 03 Dec 2021   Prob (F-statistic):           0.000260\n",
      "Time:                        02:30:10   Log-Likelihood:                -3776.8\n",
      "No. Observations:                 795   AIC:                             7576.\n",
      "Df Residuals:                     784   BIC:                             7627.\n",
      "Df Model:                          10                                         \n",
      "Covariance Type:            nonrobust                                         \n",
      "==============================================================================\n",
      "                 coef    std err          t      P>|t|      [0.025      0.975]\n",
      "------------------------------------------------------------------------------\n",
      "const         49.9145      1.000     49.935      0.000      47.952      51.877\n",
      "x1             0.7672      0.424      1.808      0.071      -0.066       1.600\n",
      "x2             0.5629      0.439      1.283      0.200      -0.299       1.424\n",
      "x3            -1.4792      0.481     -3.076      0.002      -2.423      -0.535\n",
      "x4             1.3562      0.767      1.769      0.077      -0.149       2.861\n",
      "x5            -0.8152      0.896     -0.910      0.363      -2.573       0.943\n",
      "x6            -1.6240      1.009     -1.610      0.108      -3.604       0.356\n",
      "x7             3.1008      1.098      2.823      0.005       0.945       5.257\n",
      "x8            -2.3514      1.226     -1.918      0.055      -4.758       0.055\n",
      "x9             0.0278      1.268      0.022      0.983      -2.461       2.516\n",
      "x10            1.3959      1.346      1.037      0.300      -1.246       4.038\n",
      "==============================================================================\n",
      "Omnibus:                      344.453   Durbin-Watson:                   1.887\n",
      "Prob(Omnibus):                  0.000   Jarque-Bera (JB):               42.383\n",
      "Skew:                          -0.030   Prob(JB):                     6.26e-10\n",
      "Kurtosis:                       1.870   Cond. No.                         3.17\n",
      "==============================================================================\n",
      "\n",
      "Notes:\n",
      "[1] Standard Errors assume that the covariance matrix of the errors is correctly specified.\n"
     ]
    }
   ],
   "source": [
    "# Transform independent variables\n",
    "sc = StandardScaler()\n",
    "pca = PCA(n_components=10)\n",
    "X_train = sc.fit_transform(X_train)\n",
    "X_train = pca.fit_transform(X_train)\n",
    "X_train = sm.add_constant(X_train)\n",
    "\n",
    "# Performing regression\n",
    "reg_ols = sm.OLS(y,X).fit()\n",
    "logging.info('Rsquared : ' + str(reg_ols.rsquared_adj))\n",
    "logging.info('FValue : ' + str(reg_ols.fvalue))\n",
    "logging.info('F PValue : ' + str(reg_ols.f_pvalue))\n",
    "print(reg_ols.summary())"
   ]
  },
  {
   "cell_type": "code",
   "execution_count": 331,
   "id": "de567f55-a095-44cf-b6b0-9b1060cc2005",
   "metadata": {},
   "outputs": [],
   "source": [
    "# Testing out of sample`\n",
    "X_test = sc.transform(X_test)\n",
    "X_test = pca.transform(X_test)\n",
    "X_test = sm.add_constant(X_test)\n",
    "y_pred = reg_ols.predict(X_test)"
   ]
  },
  {
   "cell_type": "markdown",
   "id": "a7155080-f37f-496a-9028-81a1f4e9e836",
   "metadata": {},
   "source": [
    "# QUESTION 4"
   ]
  },
  {
   "cell_type": "code",
   "execution_count": 332,
   "id": "6eb70084-d10d-4b7c-824f-b30c41dfb87c",
   "metadata": {},
   "outputs": [],
   "source": [
    "y_pred_percentile = pd.qcut(y_pred, 100, labels=False) + 1\n",
    "reg_ic = sm.OLS(y_pred_percentile, y_test).fit()"
   ]
  },
  {
   "cell_type": "code",
   "execution_count": 339,
   "id": "8e32ca9a-8e54-4eb4-9ed5-c41bea7e6d85",
   "metadata": {},
   "outputs": [
    {
     "data": {
      "image/png": "[encoded data removed]",
      "text/plain": [
       "<Figure size 432x288 with 1 Axes>"
      ]
     },
     "metadata": {
      "needs_background": "light"
     },
     "output_type": "display_data"
    }
   ],
   "source": [
    "from matplotlib import pyplot as plt\n",
    "plt.scatter(y_test, y_pred_percentile)\n",
    "plt.xlabel('Actual Returns Returns')\n",
    "plt.ylabel('Scaled Predicted Returns')\n",
    "plt.show()"
   ]
  },
  {
   "cell_type": "code",
   "execution_count": 333,
   "id": "5ec6e0a5-f3f2-4a86-b46c-31670c0f787b",
   "metadata": {},
   "outputs": [
    {
     "name": "stdout",
     "output_type": "stream",
     "text": [
      "                                 OLS Regression Results                                \n",
      "=======================================================================================\n",
      "Dep. Variable:                      y   R-squared (uncentered):                   0.543\n",
      "Model:                            OLS   Adj. R-squared (uncentered):              0.543\n",
      "Method:                 Least Squares   F-statistic:                              966.4\n",
      "Date:                Fri, 03 Dec 2021   Prob (F-statistic):                   2.25e-140\n",
      "Time:                        02:30:32   Log-Likelihood:                         -4138.6\n",
      "No. Observations:                 813   AIC:                                      8279.\n",
      "Df Residuals:                     812   BIC:                                      8284.\n",
      "Df Model:                           1                                                  \n",
      "Covariance Type:            nonrobust                                                  \n",
      "===============================================================================\n",
      "                  coef    std err          t      P>|t|      [0.025      0.975]\n",
      "-------------------------------------------------------------------------------\n",
      "RETURN_NEXT     0.7378      0.024     31.086      0.000       0.691       0.784\n",
      "==============================================================================\n",
      "Omnibus:                       26.875   Durbin-Watson:                   1.831\n",
      "Prob(Omnibus):                  0.000   Jarque-Bera (JB):               16.674\n",
      "Skew:                           0.206   Prob(JB):                     0.000239\n",
      "Kurtosis:                       2.432   Cond. No.                         1.00\n",
      "==============================================================================\n",
      "\n",
      "Notes:\n",
      "[1] R² is computed without centering (uncentered) since the model does not contain a constant.\n",
      "[2] Standard Errors assume that the covariance matrix of the errors is correctly specified.\n"
     ]
    }
   ],
   "source": [
    "print(reg_ic.summary())"
   ]
  },
  {
   "cell_type": "markdown",
   "id": "8a6333cb-c85d-4a45-bde5-2d726179b636",
   "metadata": {},
   "source": [
    "# QUESTION 5"
   ]
  },
  {
   "cell_type": "code",
   "execution_count": null,
   "id": "b6e45c5e-b065-42d7-8d49-8e45a8d41458",
   "metadata": {},
   "outputs": [],
   "source": []
  },
  {
   "cell_type": "markdown",
   "id": "dc7c09c4-0163-4214-a16c-e5b055cc77a0",
   "metadata": {},
   "source": [
    "# QUESTION 6"
   ]
  },
  {
   "cell_type": "code",
   "execution_count": null,
   "id": "8680ab55-bc09-4da0-908e-6590ab1103d4",
   "metadata": {},
   "outputs": [],
   "source": []
  }
 ],
 "metadata": {
  "kernelspec": {
   "display_name": "quant_general",
   "language": "python",
   "name": "quant_general"
  },
  "language_info": {
   "codemirror_mode": {
    "name": "ipython",
    "version": 3
   },
   "file_extension": ".py",
   "mimetype": "text/x-python",
   "name": "python",
   "nbconvert_exporter": "python",
   "pygments_lexer": "ipython3",
   "version": "3.7.11"
  }
 },
 "nbformat": 4,
 "nbformat_minor": 5
}
